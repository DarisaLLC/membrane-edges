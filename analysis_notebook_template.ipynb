{
 "metadata": {
  "name": "",
  "signature": "sha256:c3f57639909015643993ed7f1ade07159426a0cbbb2992e2c4861ecd5da60588"
 },
 "nbformat": 3,
 "nbformat_minor": 0,
 "worksheets": [
  {
   "cells": [
    {
     "cell_type": "code",
     "collapsed": false,
     "input": [
      "import sys\n",
      "sys.path.append('/home/jfung/code/holopy2/')\n",
      "import holopy as hp\n",
      "%matplotlib inline\n",
      "import matplotlib.pyplot as plt\n",
      "sys.path.append('/home/jfung/code/membrane_wetting/')\n",
      "import analyze_line_tension\n",
      "import scipy.optimize\n",
      "import numpy as np\n",
      "from fluctuation_library import trim_data, trim_thickness\n",
      "from analyze_line_tension import tangent_fluctuation_spectrum"
     ],
     "language": "python",
     "metadata": {},
     "outputs": []
    },
    {
     "cell_type": "code",
     "collapsed": false,
     "input": [
      "tangents, lengths = analyze_line_tension.load_tangents(('./your_tangent_directory/'), True)"
     ],
     "language": "python",
     "metadata": {},
     "outputs": []
    },
    {
     "cell_type": "code",
     "collapsed": false,
     "input": [
      "q_dim, cosine_variances = analyze_line_tension.analyze_cosines(tangents, length_of_segment,\n",
      "                                                               max_n, pixel_size, './your_output_name')"
     ],
     "language": "python",
     "metadata": {},
     "outputs": []
    }
   ],
   "metadata": {}
  }
 ]
}